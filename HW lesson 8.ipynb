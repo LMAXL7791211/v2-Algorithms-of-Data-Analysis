{
 "cells": [
  {
   "cell_type": "markdown",
   "metadata": {},
   "source": [
    "ДЗ к уроку 8\" (сделаю на выходных)\n",
    "\n",
    "\n",
    "1.Можно ли отобрать наиболее значимые признаки с помощью PCA?\n"
   ]
  },
  {
   "cell_type": "markdown",
   "metadata": {},
   "source": [
    "1. ДА,  для этого необходимо вычислить собственные значения матрицы 𝑋𝑇𝑋 и отобрать из них d максимальных"
   ]
  },
  {
   "cell_type": "markdown",
   "metadata": {},
   "source": [
    "2. Написать свою реализацию метода главных компонент с помощью сингулярного разложения с использованием функции numpy.linalg.svd()\n"
   ]
  },
  {
   "cell_type": "code",
   "execution_count": 1,
   "metadata": {
    "colab": {},
    "colab_type": "code",
    "id": "kSmUQy4ZdfJ2"
   },
   "outputs": [],
   "source": [
    "import numpy as np\n",
    "from sklearn import datasets\n",
    "import matplotlib.pyplot as plt"
   ]
  },
  {
   "cell_type": "code",
   "execution_count": 2,
   "metadata": {
    "colab": {},
    "colab_type": "code",
    "id": "m3d93Gx2dfJ6",
    "outputId": "eaee1c83-f56e-474c-a5f2-bdd5d4659ab4"
   },
   "outputs": [
    {
     "data": {
      "text/plain": [
       "(150, 4)"
      ]
     },
     "execution_count": 2,
     "metadata": {},
     "output_type": "execute_result"
    }
   ],
   "source": [
    "# Загрузим игрушечный датасет из sklearn\n",
    "iris = datasets.load_iris()\n",
    "X = iris.data\n",
    "X.shape"
   ]
  },
  {
   "cell_type": "code",
   "execution_count": 3,
   "metadata": {
    "colab": {},
    "colab_type": "code",
    "id": "eE6X-RyIdfJ-"
   },
   "outputs": [],
   "source": [
    "# Для начала отмасштабируем выборку\n",
    "X_ = X.astype(float)\n",
    "\n",
    "rows, cols = X_.shape\n",
    "\n",
    "# центрирование - вычитание из каждого значения среднего по строке\n",
    "means = X_.mean(0)\n",
    "for i in range(rows):\n",
    "    for j in range(cols):\n",
    "        X_[i, j] -= means[j]\n",
    "\n",
    "# деление каждого значения на стандартное отклонение\n",
    "std = np.std(X_, axis=0)\n",
    "for i in range(cols):\n",
    "    for j in range(rows):\n",
    "        X_[j][i] /= std[i]"
   ]
  },
  {
   "cell_type": "code",
   "execution_count": 4,
   "metadata": {
    "colab": {},
    "colab_type": "code",
    "id": "ItFOmLW9dfKB",
    "outputId": "0b507805-c106-4539-d15a-4dc8327b764f"
   },
   "outputs": [
    {
     "name": "stdout",
     "output_type": "stream",
     "text": [
      "Собственные значения в порядке убывания:\n",
      "437.77467247979894\n",
      "137.10457072021055\n",
      "22.0135313356972\n",
      "3.1072254642928967\n"
     ]
    }
   ],
   "source": [
    "# Найдем собственные векторы и собственные значения\n",
    " \n",
    "covariance_matrix = X_.T.dot(X_)\n",
    "\n",
    "eig_values, eig_vectors = np.linalg.eig(covariance_matrix)\n",
    "\n",
    "# сформируем список кортежей (собственное значение, собственный вектор)\n",
    "eig_pairs = [(np.abs(eig_values[i]), eig_vectors[:, i]) for i in range(len(eig_values))]\n",
    "\n",
    "# и отсортируем список по убыванию собственных значений\n",
    "eig_pairs.sort(key=lambda x: x[0], reverse=True)\n",
    "\n",
    "print('Собственные значения в порядке убывания:')\n",
    "for i in eig_pairs:\n",
    "    print(i[0])"
   ]
  },
  {
   "cell_type": "markdown",
   "metadata": {
    "colab_type": "text",
    "id": "9mdEDwm2dfKD"
   },
   "source": [
    "Оценим долю дисперсии, которая описывается найденными компонентами."
   ]
  },
  {
   "cell_type": "code",
   "execution_count": 5,
   "metadata": {
    "colab": {},
    "colab_type": "code",
    "id": "Ct-1I70mdfKE",
    "outputId": "ab04c5c2-649d-4f6f-e849-3791203481d2"
   },
   "outputs": [
    {
     "name": "stdout",
     "output_type": "stream",
     "text": [
      "Доля дисперсии, описвыаемая каждой из компонент \n",
      "[72.96244541329987, 22.850761786701774, 3.6689218892828688, 0.5178709107154832]\n",
      "Кумулятивная доля дисперсии по компонентам \n",
      "[ 72.96244541  95.8132072   99.48212909 100.        ]\n"
     ]
    }
   ],
   "source": [
    "eig_sum = sum(eig_values)\n",
    "var_exp = [(i / eig_sum) * 100 for i in sorted(eig_values, reverse=True)]\n",
    "cum_var_exp = np.cumsum(var_exp)\n",
    "print(f'Доля дисперсии, описвыаемая каждой из компонент \\n{var_exp}')\n",
    "\n",
    "# а теперя оценим кумулятивную (то есть накапливаемую) дисперсию при учитывании каждой из компонент\n",
    "print(f'Кумулятивная доля дисперсии по компонентам \\n{cum_var_exp}')"
   ]
  },
  {
   "cell_type": "markdown",
   "metadata": {
    "colab_type": "text",
    "id": "NE15sfLtdfKH"
   },
   "source": [
    "Таким образом, первая главная компонента описывает почти 73% информации, а первые две в сумме - 95.8%. В то же время последняя компонента описывает всего 0.5% и может быть отброжена без страха значительных потерь в качестве нашего анализа. Мы отбросим последние две компоненты, оставив первые две."
   ]
  },
  {
   "cell_type": "code",
   "execution_count": 6,
   "metadata": {
    "colab": {},
    "colab_type": "code",
    "id": "z4xcGvf7dfKI",
    "outputId": "e406100f-3bd4-40fb-ce09-15db12e77a12"
   },
   "outputs": [
    {
     "name": "stdout",
     "output_type": "stream",
     "text": [
      "Матрица весов W:\n",
      " [[ 0.52106591 -0.37741762]\n",
      " [-0.26934744 -0.92329566]\n",
      " [ 0.5804131  -0.02449161]\n",
      " [ 0.56485654 -0.06694199]]\n"
     ]
    }
   ],
   "source": [
    "# Сформируем вектор весов из собственных векторов, соответствующих первым двум главным компонентам\n",
    "W = np.hstack((eig_pairs[0][1].reshape(4,1), eig_pairs[1][1].reshape(4,1)))\n",
    "\n",
    "print(f'Матрица весов W:\\n', W)"
   ]
  },
  {
   "cell_type": "code",
   "execution_count": 7,
   "metadata": {
    "colab": {},
    "colab_type": "code",
    "id": "n04tyd6xdfKL"
   },
   "outputs": [],
   "source": [
    "# Сформируем новую матрицу \"объекты-признаки\"\n",
    "Z = X_.dot(W)"
   ]
  },
  {
   "cell_type": "code",
   "execution_count": 8,
   "metadata": {
    "colab": {},
    "colab_type": "code",
    "id": "CBqTYO6udfKO",
    "outputId": "8e8e6a9d-f8fa-4c1a-ea3f-84a9bd859bed"
   },
   "outputs": [
    {
     "data": {
      "image/png": "[encoded data removed]",
      "text/plain": [
       "<Figure size 432x288 with 1 Axes>"
      ]
     },
     "metadata": {
      "needs_background": "light"
     },
     "output_type": "display_data"
    }
   ],
   "source": [
    "plt.figure()\n",
    "y = iris.target\n",
    "for c, i in zip(\"rgb\", [0, 1, 2]):\n",
    "    plt.scatter(Z[y==i, 0], Z[y==i, 1], c=c)\n",
    "plt.xlabel('Главная компонента 1')\n",
    "plt.ylabel('Главная компонента 2')\n",
    "plt.title('PCA датасета IRIS')\n",
    "plt.show()"
   ]
  },
  {
   "cell_type": "markdown",
   "metadata": {
    "colab_type": "text",
    "id": "Y7P4Be8PdfKQ"
   },
   "source": [
    "Таким образом, мы перешли от четырехмерного пространства признаков к двумерному и при этом классы остались разделимы в пространстве, то есть классификация возможна."
   ]
  },
  {
   "cell_type": "code",
   "execution_count": 9,
   "metadata": {},
   "outputs": [],
   "source": [
    "def pca_svd(X, d=2): # по умолчанию преобразует 2 признака\n",
    "    u, s, vh = np.linalg.svd(X, full_matrices=True)\n",
    "    w = vh.T[:,:d]\n",
    "    return np.dot(X,w)"
   ]
  },
  {
   "cell_type": "code",
   "execution_count": 10,
   "metadata": {},
   "outputs": [
    {
     "data": {
      "text/plain": [
       "array([[-2.26470281, -0.4800266 ],\n",
       "       [-2.08096115,  0.67413356],\n",
       "       [-2.36422905,  0.34190802],\n",
       "       [-2.29938422,  0.59739451],\n",
       "       [-2.38984217, -0.64683538],\n",
       "       [-2.07563095, -1.48917752],\n",
       "       [-2.44402884, -0.0476442 ],\n",
       "       [-2.23284716, -0.22314807],\n",
       "       [-2.33464048,  1.11532768],\n",
       "       [-2.18432817,  0.46901356],\n",
       "       [-2.1663101 , -1.04369065],\n",
       "       [-2.32613087, -0.13307834],\n",
       "       [-2.2184509 ,  0.72867617],\n",
       "       [-2.6331007 ,  0.96150673],\n",
       "       [-2.1987406 , -1.86005711],\n",
       "       [-2.26221453, -2.68628449],\n",
       "       [-2.2075877 , -1.48360936],\n",
       "       [-2.19034951, -0.48883832],\n",
       "       [-1.898572  , -1.40501879],\n",
       "       [-2.34336905, -1.12784938],\n",
       "       [-1.914323  , -0.40885571],\n",
       "       [-2.20701284, -0.92412143],\n",
       "       [-2.7743447 , -0.45834367],\n",
       "       [-1.81866953, -0.08555853],\n",
       "       [-2.22716331, -0.13725446],\n",
       "       [-1.95184633,  0.62561859],\n",
       "       [-2.05115137, -0.24216355],\n",
       "       [-2.16857717, -0.52714953],\n",
       "       [-2.13956345, -0.31321781],\n",
       "       [-2.26526149,  0.3377319 ],\n",
       "       [-2.14012214,  0.50454069],\n",
       "       [-1.83159477, -0.42369507],\n",
       "       [-2.61494794, -1.79357586],\n",
       "       [-2.44617739, -2.15072788],\n",
       "       [-2.10997488,  0.46020184],\n",
       "       [-2.2078089 ,  0.2061074 ],\n",
       "       [-2.04514621, -0.66155811],\n",
       "       [-2.52733191, -0.59229277],\n",
       "       [-2.42963258,  0.90418004],\n",
       "       [-2.16971071, -0.26887896],\n",
       "       [-2.28647514, -0.44171539],\n",
       "       [-1.85812246,  2.33741516],\n",
       "       [-2.5536384 ,  0.47910069],\n",
       "       [-1.96444768, -0.47232667],\n",
       "       [-2.13705901, -1.14222926],\n",
       "       [-2.0697443 ,  0.71105273],\n",
       "       [-2.38473317, -1.1204297 ],\n",
       "       [-2.39437631,  0.38624687],\n",
       "       [-2.22944655, -0.99795976],\n",
       "       [-2.20383344, -0.00921636],\n",
       "       [ 1.10178118, -0.86297242],\n",
       "       [ 0.73133743, -0.59461473],\n",
       "       [ 1.24097932, -0.61629765],\n",
       "       [ 0.40748306,  1.75440399],\n",
       "       [ 1.0754747 ,  0.20842105],\n",
       "       [ 0.38868734,  0.59328364],\n",
       "       [ 0.74652974, -0.77301931],\n",
       "       [-0.48732274,  1.85242909],\n",
       "       [ 0.92790164, -0.03222608],\n",
       "       [ 0.01142619,  1.03401828],\n",
       "       [-0.11019628,  2.65407282],\n",
       "       [ 0.44069345,  0.06329519],\n",
       "       [ 0.56210831,  1.76472438],\n",
       "       [ 0.71956189,  0.18622461],\n",
       "       [-0.0333547 ,  0.43900321],\n",
       "       [ 0.87540719, -0.50906396],\n",
       "       [ 0.35025167,  0.19631173],\n",
       "       [ 0.15881005,  0.79209574],\n",
       "       [ 1.22509363,  1.6222438 ],\n",
       "       [ 0.1649179 ,  1.30260923],\n",
       "       [ 0.73768265, -0.39657156],\n",
       "       [ 0.47628719,  0.41732028],\n",
       "       [ 1.2341781 ,  0.93332573],\n",
       "       [ 0.6328582 ,  0.41638772],\n",
       "       [ 0.70266118,  0.06341182],\n",
       "       [ 0.87427365, -0.25079339],\n",
       "       [ 1.25650912,  0.07725602],\n",
       "       [ 1.35840512, -0.33131168],\n",
       "       [ 0.66480037,  0.22592785],\n",
       "       [-0.04025861,  1.05871855],\n",
       "       [ 0.13079518,  1.56227183],\n",
       "       [ 0.02345269,  1.57247559],\n",
       "       [ 0.24153827,  0.77725638],\n",
       "       [ 1.06109461,  0.63384324],\n",
       "       [ 0.22397877,  0.28777351],\n",
       "       [ 0.42913912, -0.84558224],\n",
       "       [ 1.04872805, -0.5220518 ],\n",
       "       [ 1.04453138,  1.38298872],\n",
       "       [ 0.06958832,  0.21950333],\n",
       "       [ 0.28347724,  1.32932464],\n",
       "       [ 0.27907778,  1.12002852],\n",
       "       [ 0.62456979, -0.02492303],\n",
       "       [ 0.33653037,  0.98840402],\n",
       "       [-0.36218338,  2.01923787],\n",
       "       [ 0.28858624,  0.85573032],\n",
       "       [ 0.09136066,  0.18119213],\n",
       "       [ 0.22771687,  0.38492008],\n",
       "       [ 0.57638829,  0.1548736 ],\n",
       "       [-0.44766702,  1.54379203],\n",
       "       [ 0.25673059,  0.5988518 ],\n",
       "       [ 1.84456887, -0.87042131],\n",
       "       [ 1.15788161,  0.69886986],\n",
       "       [ 2.20526679, -0.56201048],\n",
       "       [ 1.44015066,  0.04698759],\n",
       "       [ 1.86781222, -0.29504482],\n",
       "       [ 2.75187334, -0.8004092 ],\n",
       "       [ 0.36701769,  1.56150289],\n",
       "       [ 2.30243944, -0.42006558],\n",
       "       [ 2.00668647,  0.71143865],\n",
       "       [ 2.25977735, -1.92101038],\n",
       "       [ 1.36417549, -0.69275645],\n",
       "       [ 1.60267867,  0.42170045],\n",
       "       [ 1.8839007 , -0.41924965],\n",
       "       [ 1.2601151 ,  1.16226042],\n",
       "       [ 1.4676452 ,  0.44227159],\n",
       "       [ 1.59007732, -0.67624481],\n",
       "       [ 1.47143146, -0.25562182],\n",
       "       [ 2.42632899, -2.55666125],\n",
       "       [ 3.31069558, -0.01778095],\n",
       "       [ 1.26376667,  1.70674538],\n",
       "       [ 2.0377163 , -0.91046741],\n",
       "       [ 0.97798073,  0.57176432],\n",
       "       [ 2.89765149, -0.41364106],\n",
       "       [ 1.33323218,  0.48181122],\n",
       "       [ 1.7007339 , -1.01392187],\n",
       "       [ 1.95432671, -1.0077776 ],\n",
       "       [ 1.17510363,  0.31639447],\n",
       "       [ 1.02095055, -0.06434603],\n",
       "       [ 1.78834992,  0.18736121],\n",
       "       [ 1.86364755, -0.56229073],\n",
       "       [ 2.43595373, -0.25928443],\n",
       "       [ 2.30492772, -2.62632347],\n",
       "       [ 1.86270322,  0.17854949],\n",
       "       [ 1.11414774,  0.29292262],\n",
       "       [ 1.2024733 ,  0.81131527],\n",
       "       [ 2.79877045, -0.85680333],\n",
       "       [ 1.57625591, -1.06858111],\n",
       "       [ 1.3462921 , -0.42243061],\n",
       "       [ 0.92482492, -0.0172231 ],\n",
       "       [ 1.85204505, -0.67612817],\n",
       "       [ 2.01481043, -0.61388564],\n",
       "       [ 1.90178409, -0.68957549],\n",
       "       [ 1.15788161,  0.69886986],\n",
       "       [ 2.04055823, -0.8675206 ],\n",
       "       [ 1.9981471 , -1.04916875],\n",
       "       [ 1.87050329, -0.38696608],\n",
       "       [ 1.56458048,  0.89668681],\n",
       "       [ 1.5211705 , -0.26906914],\n",
       "       [ 1.37278779, -1.01125442],\n",
       "       [ 0.96065603,  0.02433167]])"
      ]
     },
     "execution_count": 10,
     "metadata": {},
     "output_type": "execute_result"
    }
   ],
   "source": [
    "z = pca_svd(X_, 2)\n",
    "z "
   ]
  },
  {
   "cell_type": "code",
   "execution_count": 11,
   "metadata": {},
   "outputs": [
    {
     "data": {
      "text/plain": [
       "array([[-2.26470281, -0.4800266 ],\n",
       "       [-2.08096115,  0.67413356],\n",
       "       [-2.36422905,  0.34190802],\n",
       "       [-2.29938422,  0.59739451],\n",
       "       [-2.38984217, -0.64683538],\n",
       "       [-2.07563095, -1.48917752],\n",
       "       [-2.44402884, -0.0476442 ],\n",
       "       [-2.23284716, -0.22314807],\n",
       "       [-2.33464048,  1.11532768],\n",
       "       [-2.18432817,  0.46901356],\n",
       "       [-2.1663101 , -1.04369065],\n",
       "       [-2.32613087, -0.13307834],\n",
       "       [-2.2184509 ,  0.72867617],\n",
       "       [-2.6331007 ,  0.96150673],\n",
       "       [-2.1987406 , -1.86005711],\n",
       "       [-2.26221453, -2.68628449],\n",
       "       [-2.2075877 , -1.48360936],\n",
       "       [-2.19034951, -0.48883832],\n",
       "       [-1.898572  , -1.40501879],\n",
       "       [-2.34336905, -1.12784938],\n",
       "       [-1.914323  , -0.40885571],\n",
       "       [-2.20701284, -0.92412143],\n",
       "       [-2.7743447 , -0.45834367],\n",
       "       [-1.81866953, -0.08555853],\n",
       "       [-2.22716331, -0.13725446],\n",
       "       [-1.95184633,  0.62561859],\n",
       "       [-2.05115137, -0.24216355],\n",
       "       [-2.16857717, -0.52714953],\n",
       "       [-2.13956345, -0.31321781],\n",
       "       [-2.26526149,  0.3377319 ],\n",
       "       [-2.14012214,  0.50454069],\n",
       "       [-1.83159477, -0.42369507],\n",
       "       [-2.61494794, -1.79357586],\n",
       "       [-2.44617739, -2.15072788],\n",
       "       [-2.10997488,  0.46020184],\n",
       "       [-2.2078089 ,  0.2061074 ],\n",
       "       [-2.04514621, -0.66155811],\n",
       "       [-2.52733191, -0.59229277],\n",
       "       [-2.42963258,  0.90418004],\n",
       "       [-2.16971071, -0.26887896],\n",
       "       [-2.28647514, -0.44171539],\n",
       "       [-1.85812246,  2.33741516],\n",
       "       [-2.5536384 ,  0.47910069],\n",
       "       [-1.96444768, -0.47232667],\n",
       "       [-2.13705901, -1.14222926],\n",
       "       [-2.0697443 ,  0.71105273],\n",
       "       [-2.38473317, -1.1204297 ],\n",
       "       [-2.39437631,  0.38624687],\n",
       "       [-2.22944655, -0.99795976],\n",
       "       [-2.20383344, -0.00921636],\n",
       "       [ 1.10178118, -0.86297242],\n",
       "       [ 0.73133743, -0.59461473],\n",
       "       [ 1.24097932, -0.61629765],\n",
       "       [ 0.40748306,  1.75440399],\n",
       "       [ 1.0754747 ,  0.20842105],\n",
       "       [ 0.38868734,  0.59328364],\n",
       "       [ 0.74652974, -0.77301931],\n",
       "       [-0.48732274,  1.85242909],\n",
       "       [ 0.92790164, -0.03222608],\n",
       "       [ 0.01142619,  1.03401828],\n",
       "       [-0.11019628,  2.65407282],\n",
       "       [ 0.44069345,  0.06329519],\n",
       "       [ 0.56210831,  1.76472438],\n",
       "       [ 0.71956189,  0.18622461],\n",
       "       [-0.0333547 ,  0.43900321],\n",
       "       [ 0.87540719, -0.50906396],\n",
       "       [ 0.35025167,  0.19631173],\n",
       "       [ 0.15881005,  0.79209574],\n",
       "       [ 1.22509363,  1.6222438 ],\n",
       "       [ 0.1649179 ,  1.30260923],\n",
       "       [ 0.73768265, -0.39657156],\n",
       "       [ 0.47628719,  0.41732028],\n",
       "       [ 1.2341781 ,  0.93332573],\n",
       "       [ 0.6328582 ,  0.41638772],\n",
       "       [ 0.70266118,  0.06341182],\n",
       "       [ 0.87427365, -0.25079339],\n",
       "       [ 1.25650912,  0.07725602],\n",
       "       [ 1.35840512, -0.33131168],\n",
       "       [ 0.66480037,  0.22592785],\n",
       "       [-0.04025861,  1.05871855],\n",
       "       [ 0.13079518,  1.56227183],\n",
       "       [ 0.02345269,  1.57247559],\n",
       "       [ 0.24153827,  0.77725638],\n",
       "       [ 1.06109461,  0.63384324],\n",
       "       [ 0.22397877,  0.28777351],\n",
       "       [ 0.42913912, -0.84558224],\n",
       "       [ 1.04872805, -0.5220518 ],\n",
       "       [ 1.04453138,  1.38298872],\n",
       "       [ 0.06958832,  0.21950333],\n",
       "       [ 0.28347724,  1.32932464],\n",
       "       [ 0.27907778,  1.12002852],\n",
       "       [ 0.62456979, -0.02492303],\n",
       "       [ 0.33653037,  0.98840402],\n",
       "       [-0.36218338,  2.01923787],\n",
       "       [ 0.28858624,  0.85573032],\n",
       "       [ 0.09136066,  0.18119213],\n",
       "       [ 0.22771687,  0.38492008],\n",
       "       [ 0.57638829,  0.1548736 ],\n",
       "       [-0.44766702,  1.54379203],\n",
       "       [ 0.25673059,  0.5988518 ],\n",
       "       [ 1.84456887, -0.87042131],\n",
       "       [ 1.15788161,  0.69886986],\n",
       "       [ 2.20526679, -0.56201048],\n",
       "       [ 1.44015066,  0.04698759],\n",
       "       [ 1.86781222, -0.29504482],\n",
       "       [ 2.75187334, -0.8004092 ],\n",
       "       [ 0.36701769,  1.56150289],\n",
       "       [ 2.30243944, -0.42006558],\n",
       "       [ 2.00668647,  0.71143865],\n",
       "       [ 2.25977735, -1.92101038],\n",
       "       [ 1.36417549, -0.69275645],\n",
       "       [ 1.60267867,  0.42170045],\n",
       "       [ 1.8839007 , -0.41924965],\n",
       "       [ 1.2601151 ,  1.16226042],\n",
       "       [ 1.4676452 ,  0.44227159],\n",
       "       [ 1.59007732, -0.67624481],\n",
       "       [ 1.47143146, -0.25562182],\n",
       "       [ 2.42632899, -2.55666125],\n",
       "       [ 3.31069558, -0.01778095],\n",
       "       [ 1.26376667,  1.70674538],\n",
       "       [ 2.0377163 , -0.91046741],\n",
       "       [ 0.97798073,  0.57176432],\n",
       "       [ 2.89765149, -0.41364106],\n",
       "       [ 1.33323218,  0.48181122],\n",
       "       [ 1.7007339 , -1.01392187],\n",
       "       [ 1.95432671, -1.0077776 ],\n",
       "       [ 1.17510363,  0.31639447],\n",
       "       [ 1.02095055, -0.06434603],\n",
       "       [ 1.78834992,  0.18736121],\n",
       "       [ 1.86364755, -0.56229073],\n",
       "       [ 2.43595373, -0.25928443],\n",
       "       [ 2.30492772, -2.62632347],\n",
       "       [ 1.86270322,  0.17854949],\n",
       "       [ 1.11414774,  0.29292262],\n",
       "       [ 1.2024733 ,  0.81131527],\n",
       "       [ 2.79877045, -0.85680333],\n",
       "       [ 1.57625591, -1.06858111],\n",
       "       [ 1.3462921 , -0.42243061],\n",
       "       [ 0.92482492, -0.0172231 ],\n",
       "       [ 1.85204505, -0.67612817],\n",
       "       [ 2.01481043, -0.61388564],\n",
       "       [ 1.90178409, -0.68957549],\n",
       "       [ 1.15788161,  0.69886986],\n",
       "       [ 2.04055823, -0.8675206 ],\n",
       "       [ 1.9981471 , -1.04916875],\n",
       "       [ 1.87050329, -0.38696608],\n",
       "       [ 1.56458048,  0.89668681],\n",
       "       [ 1.5211705 , -0.26906914],\n",
       "       [ 1.37278779, -1.01125442],\n",
       "       [ 0.96065603,  0.02433167]])"
      ]
     },
     "execution_count": 11,
     "metadata": {},
     "output_type": "execute_result"
    }
   ],
   "source": [
    "Z"
   ]
  },
  {
   "cell_type": "markdown",
   "metadata": {},
   "source": [
    "\n",
    "\n",
    "3.Обучить любую модель классификации на датасете iris до применения PCA и после него. Сравнить качество классификации по отложенной выборке.\n"
   ]
  },
  {
   "cell_type": "markdown",
   "metadata": {},
   "source": [
    "Обучим модель KNN на k=3"
   ]
  },
  {
   "cell_type": "code",
   "execution_count": 12,
   "metadata": {
    "colab": {},
    "colab_type": "code",
    "id": "ChmkZ71kuf9-"
   },
   "outputs": [],
   "source": [
    "from sklearn import model_selection\n",
    "from matplotlib.colors import ListedColormap"
   ]
  },
  {
   "cell_type": "markdown",
   "metadata": {
    "colab_type": "text",
    "id": "V5FaldH6uf-B"
   },
   "source": [
    "Х_ загружен и отмасштабирован ранее"
   ]
  },
  {
   "cell_type": "code",
   "execution_count": 15,
   "metadata": {
    "colab": {},
    "colab_type": "code",
    "id": "_49Y22E9uf-C"
   },
   "outputs": [],
   "source": [
    "y = iris.target"
   ]
  },
  {
   "cell_type": "code",
   "execution_count": 16,
   "metadata": {},
   "outputs": [
    {
     "data": {
      "text/plain": [
       "(150,)"
      ]
     },
     "execution_count": 16,
     "metadata": {},
     "output_type": "execute_result"
    }
   ],
   "source": [
    "y.shape"
   ]
  },
  {
   "cell_type": "markdown",
   "metadata": {
    "colab_type": "text",
    "id": "ZpwmydFPuf-F"
   },
   "source": [
    "Разделим выборку на обучающую и тестовую (признаки берем отмасштабированные)"
   ]
  },
  {
   "cell_type": "code",
   "execution_count": 17,
   "metadata": {
    "colab": {},
    "colab_type": "code",
    "id": "ACYClLghuf-F"
   },
   "outputs": [],
   "source": [
    "X_train, X_test, y_train, y_test = model_selection.train_test_split(X_, y, test_size=0.2, random_state=1)"
   ]
  },
  {
   "cell_type": "code",
   "execution_count": 24,
   "metadata": {
    "colab": {},
    "colab_type": "code",
    "id": "Johgj2p6uf-J",
    "outputId": "081c6165-bd71-4800-9ab1-78646f5489fd"
   },
   "outputs": [
    {
     "data": {
      "text/plain": [
       "<matplotlib.collections.PathCollection at 0x26de7b8dda0>"
      ]
     },
     "execution_count": 24,
     "metadata": {},
     "output_type": "execute_result"
    },
    {
     "data": {
      "image/png": "[encoded data removed]",
      "text/plain": [
       "<Figure size 504x504 with 1 Axes>"
      ]
     },
     "metadata": {
      "needs_background": "light"
     },
     "output_type": "display_data"
    }
   ],
   "source": [
    "cmap = ListedColormap(['red', 'green', 'blue'])\n",
    "plt.figure(figsize=(7, 7))\n",
    "plt.scatter(X[:, 0], X[:, 1], c=y, cmap=cmap)"
   ]
  },
  {
   "cell_type": "markdown",
   "metadata": {
    "colab_type": "text",
    "id": "59xP1kfUuf-O"
   },
   "source": [
    "Используем евклидову метрику. Реализуем функцию для ее подсчета."
   ]
  },
  {
   "cell_type": "code",
   "execution_count": 18,
   "metadata": {
    "colab": {},
    "colab_type": "code",
    "id": "MKipIKeGuf-P"
   },
   "outputs": [],
   "source": [
    "def e_metrics(x1, x2):\n",
    "    \n",
    "    distance = 0\n",
    "    for i in range(len(x1)):\n",
    "        distance += np.square(x1[i] - x2[i])\n",
    "    \n",
    "    return np.sqrt(distance)"
   ]
  },
  {
   "cell_type": "markdown",
   "metadata": {
    "colab_type": "text",
    "id": "1tvFJ8-ouf-T"
   },
   "source": [
    "Реализуем алгоритм поиска k ближайших соседей."
   ]
  },
  {
   "cell_type": "code",
   "execution_count": 19,
   "metadata": {
    "colab": {},
    "colab_type": "code",
    "id": "LIKuDr9huf-V"
   },
   "outputs": [],
   "source": [
    "def knn(x_train, y_train, x_test, k):\n",
    "    \n",
    "    answers = []\n",
    "    for x in x_test:\n",
    "        test_distances = []\n",
    "            \n",
    "        for i in range(len(x_train)):\n",
    "            \n",
    "            # расчет расстояния от классифицируемого объекта до\n",
    "            # объекта обучающей выборки\n",
    "            distance = e_metrics(x, x_train[i])\n",
    "            \n",
    "            # Записываем в список значение расстояния и ответа на объекте обучающей выборки\n",
    "            test_distances.append((distance, y_train[i]))\n",
    "        \n",
    "        # создаем словарь со всеми возможными классами\n",
    "        classes = {class_item: 0 for class_item in set(y_train)}\n",
    "        \n",
    "        # Сортируем список и среди первых k элементов подсчитаем частоту появления разных классов\n",
    "        for d in sorted(test_distances)[0:k]:\n",
    "            classes[d[1]] += 1\n",
    "            \n",
    "        # Записываем в список ответов наиболее часто встречающийся класс\n",
    "        answers.append(sorted(classes, key=classes.get)[-1])\n",
    "    return answers"
   ]
  },
  {
   "cell_type": "markdown",
   "metadata": {
    "colab_type": "text",
    "id": "7DVrbUPyuf-X"
   },
   "source": [
    "Напишем функцию для вычисления точности"
   ]
  },
  {
   "cell_type": "code",
   "execution_count": 20,
   "metadata": {
    "colab": {},
    "colab_type": "code",
    "id": "eK2Bn_7ouf-Y"
   },
   "outputs": [],
   "source": [
    "def accuracy(pred, y):\n",
    "    return (sum(pred == y) / len(y))"
   ]
  },
  {
   "cell_type": "markdown",
   "metadata": {
    "colab_type": "text",
    "id": "SprqYVBQuf-a"
   },
   "source": [
    "Проверим работу алгоритма на датасете X_"
   ]
  },
  {
   "cell_type": "code",
   "execution_count": 21,
   "metadata": {
    "colab": {},
    "colab_type": "code",
    "id": "8K98g57quf-a",
    "outputId": "be768ef7-9825-4ffb-9dc6-516565e92263"
   },
   "outputs": [
    {
     "name": "stdout",
     "output_type": "stream",
     "text": [
      "Точность алгоритма при k = 3: 1.000\n"
     ]
    }
   ],
   "source": [
    "k = 3\n",
    "\n",
    "y_pred = knn(X_train, y_train, X_test, k)\n",
    "\n",
    "print(f'Точность алгоритма при k = {k}: {accuracy(y_pred, y_test):.3f}')"
   ]
  },
  {
   "cell_type": "markdown",
   "metadata": {
    "colab_type": "text",
    "id": "YahR_F7xuf-d"
   },
   "source": [
    "Построим график распределения классов."
   ]
  },
  {
   "cell_type": "code",
   "execution_count": 22,
   "metadata": {
    "colab": {},
    "colab_type": "code",
    "id": "vN4DDyMauf-e"
   },
   "outputs": [],
   "source": [
    "def get_graph(X_train, y_train, k):\n",
    "    cmap_light = ListedColormap(['#FFAAAA', '#AAFFAA','#00AAFF'])\n",
    "\n",
    "    h = .02\n",
    "\n",
    "    # Расчет пределов графика\n",
    "    x_min, x_max = X_train[:, 0].min() - 1, X_train[:, 0].max() + 1\n",
    "    y_min, y_max = X_train[:, 1].min() - 1, X_train[:, 1].max() + 1\n",
    "    xx, yy = np.meshgrid(np.arange(x_min, x_max, h), np.arange(y_min, y_max, h))\n",
    "\n",
    "    # Получим предсказания для всех точек\n",
    "    Z = knn(X_train, y_train, np.c_[xx.ravel(), yy.ravel()], k)\n",
    "\n",
    "    # Построим график\n",
    "    Z = np.array(Z).reshape(xx.shape)\n",
    "    plt.figure(figsize=(7,7))\n",
    "    plt.pcolormesh(xx, yy, Z, cmap=cmap_light)\n",
    "\n",
    "    # Добавим на график обучающую выборку\n",
    "    plt.scatter(X_train[:, 0], X_train[:, 1], c=y_train, cmap=cmap)\n",
    "    plt.xlim(xx.min(), xx.max())\n",
    "    plt.ylim(yy.min(), yy.max())\n",
    "    plt.title(f\"Трехклассовая kNN классификация при k = {k}\")\n",
    "    plt.show()"
   ]
  },
  {
   "cell_type": "code",
   "execution_count": 25,
   "metadata": {
    "colab": {},
    "colab_type": "code",
    "id": "B0twiiFZuf-i",
    "outputId": "81463ebb-c1a8-47ff-ff83-a6b1dd4aec39",
    "scrolled": true
   },
   "outputs": [
    {
     "data": {
      "image/png": "[encoded data removed]",
      "text/plain": [
       "<Figure size 504x504 with 1 Axes>"
      ]
     },
     "metadata": {
      "needs_background": "light"
     },
     "output_type": "display_data"
    }
   ],
   "source": [
    "get_graph(X_train, y_train, k)"
   ]
  },
  {
   "cell_type": "markdown",
   "metadata": {
    "colab_type": "text",
    "id": "ZpwmydFPuf-F"
   },
   "source": [
    "Разделим выборку PCA на обучающую и тестовую (признаки берем отмасштабированные)"
   ]
  },
  {
   "cell_type": "code",
   "execution_count": 27,
   "metadata": {
    "colab": {},
    "colab_type": "code",
    "id": "ACYClLghuf-F"
   },
   "outputs": [],
   "source": [
    "X_train, X_test, y_train, y_test = model_selection.train_test_split(Z, y, test_size=0.2, random_state=1)"
   ]
  },
  {
   "cell_type": "markdown",
   "metadata": {
    "colab_type": "text",
    "id": "SprqYVBQuf-a"
   },
   "source": [
    "Проверим работу алгоритма на датасете Z (после преобразования PCA"
   ]
  },
  {
   "cell_type": "code",
   "execution_count": 28,
   "metadata": {
    "colab": {},
    "colab_type": "code",
    "id": "8K98g57quf-a",
    "outputId": "be768ef7-9825-4ffb-9dc6-516565e92263"
   },
   "outputs": [
    {
     "name": "stdout",
     "output_type": "stream",
     "text": [
      "Точность алгоритма при k = 3: 0.967\n"
     ]
    }
   ],
   "source": [
    "k = 3\n",
    "\n",
    "y_pred = knn(X_train, y_train, X_test, k)\n",
    "\n",
    "print(f'Точность алгоритма при k = {k}: {accuracy(y_pred, y_test):.3f}')"
   ]
  },
  {
   "cell_type": "code",
   "execution_count": 29,
   "metadata": {
    "colab": {},
    "colab_type": "code",
    "id": "B0twiiFZuf-i",
    "outputId": "81463ebb-c1a8-47ff-ff83-a6b1dd4aec39",
    "scrolled": true
   },
   "outputs": [
    {
     "data": {
      "image/png": "[encoded data removed]",
      "text/plain": [
       "<Figure size 504x504 with 1 Axes>"
      ]
     },
     "metadata": {
      "needs_background": "light"
     },
     "output_type": "display_data"
    }
   ],
   "source": [
    "get_graph(X_train, y_train, k)"
   ]
  },
  {
   "cell_type": "markdown",
   "metadata": {},
   "source": [
    "Качество классификации снизилось на 0.033, но осталось достаточно высоким (0.967)"
   ]
  },
  {
   "cell_type": "code",
   "execution_count": null,
   "metadata": {},
   "outputs": [],
   "source": []
  },
  {
   "cell_type": "markdown",
   "metadata": {},
   "source": [
    "\n",
    "\n",
    "4*. Примите участие в одном или двух соревнованиях и пришлите:\n",
    "свой псевдоним на Kaggle и ссылку на github с решением соревнования\n",
    "по регрессии (https://www.kaggle.com/c/tutors-expected-math-exam-results)\n",
    "или классификации (https://www.kaggle.com/c/choose-tutors).\n",
    "В скрипте можно использовать только эти импорты (см. вкладку Rules):\n",
    "import numpy as np\n",
    "import pandas as pd\n",
    "from sklearn.model_selection import train_test_split\n",
    "import matplotlib.pyplot as plt\n",
    "import seaborn as sns"
   ]
  },
  {
   "cell_type": "markdown",
   "metadata": {},
   "source": [
    "выложил ноутбук по ссылке https://github.com/LMAXL7791211/v2-Algorithms-of-Data-Analysis/blob/HW_8/choose%20tutors.ipynb\n",
    "    \n",
    "    буду еще дорабатывать"
   ]
  },
  {
   "cell_type": "code",
   "execution_count": null,
   "metadata": {},
   "outputs": [],
   "source": []
  }
 ],
 "metadata": {
  "kernelspec": {
   "display_name": "Python 3",
   "language": "python",
   "name": "python3"
  },
  "language_info": {
   "codemirror_mode": {
    "name": "ipython",
    "version": 3
   },
   "file_extension": ".py",
   "mimetype": "text/x-python",
   "name": "python",
   "nbconvert_exporter": "python",
   "pygments_lexer": "ipython3",
   "version": "3.7.1"
  }
 },
 "nbformat": 4,
 "nbformat_minor": 2
}
