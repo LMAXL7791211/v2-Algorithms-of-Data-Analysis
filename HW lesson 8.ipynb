{
 "cells": [
  {
   "cell_type": "markdown",
   "metadata": {},
   "source": [
    "\"Заглушка к ДЗ к уроку 8\" (сделаю на выходных)\n",
    "\n",
    "\n",
    "1.Можно ли отобрать наиболее значимые признаки с помощью PCA?\n",
    "\n",
    "\n",
    "2. Написать свою реализацию метода главных компонент с помощью сингулярного разложения с использованием функции numpy.linalg.svd()\n",
    "\n",
    "\n",
    "3.Обучить любую модель классификации на датасете iris до применения PCA и после него. Сравнить качество классификации по отложенной выборке.\n",
    "\n",
    "\n",
    "4*. Примите участие в одном или двух соревнованиях и пришлите:\n",
    "свой псевдоним на Kaggle и ссылку на github с решением соревнования\n",
    "по регрессии (https://www.kaggle.com/c/tutors-expected-math-exam-results)\n",
    "или классификации (https://www.kaggle.com/c/choose-tutors).\n",
    "В скрипте можно использовать только эти импорты (см. вкладку Rules):\n",
    "import numpy as np\n",
    "import pandas as pd\n",
    "from sklearn.model_selection import train_test_split\n",
    "import matplotlib.pyplot as plt\n",
    "import seaborn as sns"
   ]
  },
  {
   "cell_type": "code",
   "execution_count": null,
   "metadata": {},
   "outputs": [],
   "source": []
  }
 ],
 "metadata": {
  "kernelspec": {
   "display_name": "Python 3",
   "language": "python",
   "name": "python3"
  },
  "language_info": {
   "codemirror_mode": {
    "name": "ipython",
    "version": 3
   },
   "file_extension": ".py",
   "mimetype": "text/x-python",
   "name": "python",
   "nbconvert_exporter": "python",
   "pygments_lexer": "ipython3",
   "version": "3.7.1"
  }
 },
 "nbformat": 4,
 "nbformat_minor": 2
}
